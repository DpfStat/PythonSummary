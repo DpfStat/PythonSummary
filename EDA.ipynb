{
 "cells": [
  {
   "cell_type": "markdown",
   "id": "great-prescription",
   "metadata": {},
   "source": [
    "# Data prepare"
   ]
  },
  {
   "cell_type": "markdown",
   "id": "played-resource",
   "metadata": {},
   "source": [
    "### NA check"
   ]
  },
  {
   "cell_type": "code",
   "execution_count": null,
   "id": "lyric-attention",
   "metadata": {},
   "outputs": [],
   "source": [
    "# get the number of NA values in each column\n",
    "counties_df.isnull().sum()"
   ]
  },
  {
   "cell_type": "code",
   "execution_count": null,
   "id": "perceived-knight",
   "metadata": {},
   "outputs": [],
   "source": [
    "# get the row with NA values\n",
    "for i in range(len(counties_df.index)):\n",
    "    if counties_df.iloc[i].isnull().sum() != 0:\n",
    "        print(i)"
   ]
  },
  {
   "cell_type": "markdown",
   "id": "super-tumor",
   "metadata": {},
   "source": [
    "### Drop"
   ]
  },
  {
   "cell_type": "code",
   "execution_count": null,
   "id": "common-current",
   "metadata": {},
   "outputs": [],
   "source": [
    "# drop any incomplete rows of data, and create a new df\n",
    "clean_counties_df = counties_df.dropna(axis=0)\n",
    "print('rows, columns:', clean_counties_df.shape)"
   ]
  },
  {
   "cell_type": "code",
   "execution_count": null,
   "id": "dying-scientist",
   "metadata": {},
   "outputs": [],
   "source": [
    "# drop columns\n",
    "drop = ['A', 'B']\n",
    "df = df.drop[columns=drop]"
   ]
  },
  {
   "cell_type": "code",
   "execution_count": null,
   "id": "cubic-affair",
   "metadata": {},
   "outputs": [],
   "source": [
    "# get featurn values\n",
    "features_list = clean_counties_df.columns.values"
   ]
  },
  {
   "cell_type": "markdown",
   "id": "every-status",
   "metadata": {},
   "source": [
    "### Normalization"
   ]
  },
  {
   "cell_type": "code",
   "execution_count": null,
   "id": "bored-damages",
   "metadata": {},
   "outputs": [],
   "source": [
    "# scale numerical features into a normalized range, 0-1\n",
    "# store them in this dataframe\n",
    "from sklearn.preprocessing import MinMaxScaler\n",
    "scaler = MinMaxScaler()\n",
    "\n",
    "df_scaled = pd.DataFrame(scaler.fit_transform(df.astype(float)))\n",
    "df_scaled.columns = df.columns\n",
    "df_scaled.index = df.index\n"
   ]
  },
  {
   "cell_type": "markdown",
   "id": "continuous-effect",
   "metadata": {},
   "source": [
    "# Visualization"
   ]
  },
  {
   "cell_type": "markdown",
   "id": "annual-basement",
   "metadata": {},
   "source": [
    "### Histograms"
   ]
  },
  {
   "cell_type": "code",
   "execution_count": null,
   "id": "handled-facility",
   "metadata": {},
   "outputs": [],
   "source": [
    "feature_list = ['A', 'B', 'C'] # the variables we wants to compare\n",
    "n_bins = 30 # can decrease to get a wider bin (or vice versa)\n",
    "\n",
    "for column_name in feature_list:\n",
    "    ax=plt.subplots(figsize=(6,3))\n",
    "    # get data by column_name and display a histogram\n",
    "    ax = plt.hist(df[column_name], bins=n_bins)\n",
    "    title=\"Histogram of \" + column_name\n",
    "    plt.title(title, fontsize=12)\n",
    "    plt.show()"
   ]
  }
 ],
 "metadata": {
  "kernelspec": {
   "display_name": "mlvenv",
   "language": "python",
   "name": "mlvenv"
  },
  "language_info": {
   "codemirror_mode": {
    "name": "ipython",
    "version": 3
   },
   "file_extension": ".py",
   "mimetype": "text/x-python",
   "name": "python",
   "nbconvert_exporter": "python",
   "pygments_lexer": "ipython3",
   "version": "3.8.2"
  }
 },
 "nbformat": 4,
 "nbformat_minor": 5
}
