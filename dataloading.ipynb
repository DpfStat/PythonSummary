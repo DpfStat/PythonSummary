{
 "cells": [
  {
   "cell_type": "markdown",
   "metadata": {},
   "source": [
    "# pd.read_tables( )"
   ]
  },
  {
   "cell_type": "code",
   "execution_count": null,
   "metadata": {},
   "outputs": [],
   "source": [
    "# use read_table\n",
    "faithful = pd.read_table('faithful.dat', #name of the file\n",
    "                        sep = '\\s+', \n",
    "                         # interpreted as regular expressions \n",
    "                         # and will also force the use of the Python parsing engine.\n",
    "                        skiprows = 26, #the number of lines to skip from the beginning of the file\n",
    "                        names = ['eruptions', 'waiting'] # column names\n",
    "                        )"
   ]
  },
  {
   "cell_type": "markdown",
   "metadata": {},
   "source": [
    "# JSON"
   ]
  },
  {
   "cell_type": "code",
   "execution_count": null,
   "metadata": {},
   "outputs": [],
   "source": [
    "import pandas as pd\n",
    "import json\n",
    "\n",
    "json_file = open(fn('MOCK_DATA.json'), encoding=\"utf8\")\n",
    "json_str = json_file.read()\n",
    "json_data = json.loads(json_str)\n",
    "\n",
    "# Demo:\n",
    "print(json_data[0][\"name\"][\"last_name\"]) # Should be 'Ricciardo'"
   ]
  },
  {
   "cell_type": "code",
   "execution_count": null,
   "metadata": {},
   "outputs": [],
   "source": [
    "pd.read_json(file_name)"
   ]
  }
 ],
 "metadata": {
  "kernelspec": {
   "display_name": "mlvenv",
   "language": "python",
   "name": "mlvenv"
  },
  "language_info": {
   "codemirror_mode": {
    "name": "ipython",
    "version": 3
   },
   "file_extension": ".py",
   "mimetype": "text/x-python",
   "name": "python",
   "nbconvert_exporter": "python",
   "pygments_lexer": "ipython3",
   "version": "3.7.6"
  }
 },
 "nbformat": 4,
 "nbformat_minor": 4
}
