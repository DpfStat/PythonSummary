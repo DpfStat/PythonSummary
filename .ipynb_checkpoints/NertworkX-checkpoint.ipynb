{
 "cells": [
  {
   "cell_type": "code",
   "execution_count": 1,
   "metadata": {},
   "outputs": [],
   "source": [
    "import networkx as nx"
   ]
  },
  {
   "cell_type": "markdown",
   "metadata": {},
   "source": [
    "# Clustering Coefficient"
   ]
  },
  {
   "cell_type": "code",
   "execution_count": null,
   "metadata": {},
   "outputs": [],
   "source": [
    "# local clustering coefficient\n",
    "G = nx.Graph()\n",
    "nx.clustering(G, 'A')"
   ]
  },
  {
   "cell_type": "code",
   "execution_count": null,
   "metadata": {},
   "outputs": [],
   "source": [
    "# Global clustering coefficient\n",
    "# average \n",
    "nx.average_clustering(G)\n",
    "# Transitivity\n",
    "# Transitivity weighs nodes with larger degree higher\n",
    "nx.transitivity(G)"
   ]
  },
  {
   "cell_type": "markdown",
   "metadata": {},
   "source": [
    "# Distance "
   ]
  },
  {
   "cell_type": "code",
   "execution_count": null,
   "metadata": {},
   "outputs": [],
   "source": [
    "## path\n",
    "nx.shortest_path(G,'A','B')\n",
    "\n",
    "# from A to other nodes\n",
    "# Breadth-first search\n",
    "T = nx.bfs_tree(G, 'A')\n",
    "T.edges()\n",
    "# or \n",
    "nx.shortest_path_length(G,'A')\n"
   ]
  },
  {
   "cell_type": "markdown",
   "metadata": {},
   "source": [
    "### Distance measures"
   ]
  },
  {
   "cell_type": "code",
   "execution_count": null,
   "metadata": {},
   "outputs": [],
   "source": [
    "# average \n",
    "nx.average_shortest_path_length(G)\n",
    "# diameter: the maximum distance between any pair of nodes\n",
    "nx.diameter(G)\n",
    "# Eccentricity: the largest distance of node n and other nodes\n",
    "nx.eccentricity(G)\n",
    "## radius: the minimum eccentricity\n",
    "nx.radius(G)\n",
    "###\n",
    "## Periphery: the set of nodes that have eccentricity equals diameter\n",
    "nx.periphery(G)\n",
    "## Center: the set of nodes that have eccentricity equals radius"
   ]
  },
  {
   "cell_type": "markdown",
   "metadata": {},
   "source": [
    "### Examples"
   ]
  },
  {
   "cell_type": "code",
   "execution_count": 10,
   "metadata": {},
   "outputs": [
    {
     "data": {
      "text/plain": [
       "2.408199643493761"
      ]
     },
     "execution_count": 10,
     "metadata": {},
     "output_type": "execute_result"
    }
   ],
   "source": [
    "G = nx.karate_club_graph()\n",
    "G = nx.convert_node_labels_to_integers(G,first_label=1)\n",
    "nx.average_shortest_path_length(G)"
   ]
  },
  {
   "cell_type": "code",
   "execution_count": 11,
   "metadata": {},
   "outputs": [
    {
     "data": {
      "text/plain": [
       "5"
      ]
     },
     "execution_count": 11,
     "metadata": {},
     "output_type": "execute_result"
    }
   ],
   "source": [
    "nx.diameter(G)"
   ]
  },
  {
   "cell_type": "code",
   "execution_count": 12,
   "metadata": {},
   "outputs": [
    {
     "data": {
      "text/plain": [
       "3"
      ]
     },
     "execution_count": 12,
     "metadata": {},
     "output_type": "execute_result"
    }
   ],
   "source": [
    "nx.radius(G)"
   ]
  },
  {
   "cell_type": "code",
   "execution_count": 16,
   "metadata": {},
   "outputs": [
    {
     "data": {
      "text/plain": [
       "{1: 3,\n",
       " 2: 3,\n",
       " 3: 3,\n",
       " 4: 3,\n",
       " 5: 4,\n",
       " 6: 4,\n",
       " 7: 4,\n",
       " 8: 4,\n",
       " 9: 3,\n",
       " 10: 4,\n",
       " 11: 4,\n",
       " 12: 4,\n",
       " 13: 4,\n",
       " 14: 3,\n",
       " 15: 5,\n",
       " 16: 5,\n",
       " 17: 5,\n",
       " 18: 4,\n",
       " 19: 5,\n",
       " 20: 3,\n",
       " 21: 5,\n",
       " 22: 4,\n",
       " 23: 5,\n",
       " 24: 5,\n",
       " 25: 4,\n",
       " 26: 4,\n",
       " 27: 5,\n",
       " 28: 4,\n",
       " 29: 4,\n",
       " 30: 5,\n",
       " 31: 4,\n",
       " 32: 3,\n",
       " 33: 4,\n",
       " 34: 4}"
      ]
     },
     "execution_count": 16,
     "metadata": {},
     "output_type": "execute_result"
    }
   ],
   "source": [
    "nx.eccentricity(G)"
   ]
  },
  {
   "cell_type": "code",
   "execution_count": 13,
   "metadata": {},
   "outputs": [
    {
     "data": {
      "text/plain": [
       "[15, 16, 17, 19, 21, 23, 24, 27, 30]"
      ]
     },
     "execution_count": 13,
     "metadata": {},
     "output_type": "execute_result"
    }
   ],
   "source": [
    "nx.periphery(G)"
   ]
  },
  {
   "cell_type": "code",
   "execution_count": 15,
   "metadata": {},
   "outputs": [
    {
     "data": {
      "text/plain": [
       "[1, 2, 3, 4, 9, 14, 20, 32]"
      ]
     },
     "execution_count": 15,
     "metadata": {},
     "output_type": "execute_result"
    }
   ],
   "source": [
    "nx.center(G)"
   ]
  },
  {
   "cell_type": "markdown",
   "metadata": {},
   "source": [
    "# Connected "
   ]
  },
  {
   "cell_type": "code",
   "execution_count": null,
   "metadata": {},
   "outputs": [],
   "source": [
    "nx.is_connected(G)\n",
    "nx.number_connected_components(G) # show the number of subsets\n",
    "sorted(nx.connected_components(G)) # show the subsets\n",
    "nx.node_connected_component(G,'M') # show the subset with node M"
   ]
  },
  {
   "cell_type": "markdown",
   "metadata": {},
   "source": [
    "### Directed Graph "
   ]
  },
  {
   "cell_type": "code",
   "execution_count": null,
   "metadata": {},
   "outputs": [],
   "source": [
    "# strongly connected: u to v and v to u both have a direct path\n",
    "nx.is_strongly_connected(G)\n",
    "# weakly connected: replace all the direct path with undirect path to producr a undirect connected graph\n",
    "nx.is_weakly_connected(G)\n",
    "\n",
    "sorted(nx.strongly_connected_components(G))\n",
    "sorted(nx.weakly_connected_components(G))"
   ]
  },
  {
   "cell_type": "markdown",
   "metadata": {},
   "source": [
    "# Robustness"
   ]
  },
  {
   "cell_type": "markdown",
   "metadata": {},
   "source": [
    "### subsets"
   ]
  },
  {
   "cell_type": "code",
   "execution_count": null,
   "metadata": {},
   "outputs": [],
   "source": [
    "# nodes\n",
    "# the smallest number of nodes to remove to disconnect\n",
    "nx.node_connectivity(G_un) # g_un: undirect graph\n",
    "# which node to cut\n",
    "nx.minimum_node_cut(G_un)"
   ]
  },
  {
   "cell_type": "code",
   "execution_count": null,
   "metadata": {},
   "outputs": [],
   "source": [
    "# edges\n",
    "# the smallest number of edges to remove to disconnect\n",
    "nx.edge_connectivity(G_un)\n",
    "# the edges to remove\n",
    "nx.minimun_edge_cut(G_un)"
   ]
  },
  {
   "cell_type": "markdown",
   "metadata": {},
   "source": [
    "### simple path"
   ]
  },
  {
   "cell_type": "code",
   "execution_count": null,
   "metadata": {},
   "outputs": [],
   "source": [
    "# show all the pathes between two nodes\n",
    "sorted(nx.all_simple_paths(G,'G','L'))\n",
    "# remove nodes to block the connection between two nodes\n",
    "nx.node_connectivity(G,'G','L')\n",
    "nx.minimum_node_cut(G,'G','L')\n",
    "# edges\n",
    "nx.edge_connectivity(G,'G','L')\n",
    "nx.minimum_edge_cut(G,'G','L')"
   ]
  },
  {
   "cell_type": "markdown",
   "metadata": {},
   "source": [
    "# Visulization"
   ]
  },
  {
   "cell_type": "code",
   "execution_count": null,
   "metadata": {},
   "outputs": [],
   "source": [
    "plt.figure(figsize=(10,9))\n",
    "nx.draw_networkx(G)"
   ]
  },
  {
   "cell_type": "code",
   "execution_count": null,
   "metadata": {},
   "outputs": [],
   "source": [
    "[x for x in nx.__dir__() if x.endwith('_layout')]\n",
    "plt.figure(figsize=(10,9))\n",
    "pos = nx.random_layout(G)\n",
    "nx.draw_networkx(G,pos)"
   ]
  },
  {
   "cell_type": "code",
   "execution_count": null,
   "metadata": {},
   "outputs": [],
   "source": [
    "# Draw the graph using the circular layout\n",
    "plt.figure(figsize=(10,9))\n",
    "pos = nx.circular_layout(G)\n",
    "nx.draw_networkx(G, pos)"
   ]
  },
  {
   "cell_type": "code",
   "execution_count": null,
   "metadata": {},
   "outputs": [],
   "source": [
    "# Draw the graph using custom node positions\n",
    "plt.figure(figsize=(10,7))\n",
    "\n",
    "pos = nx.get_node_attributes(G, 'location')\n",
    "nx.draw_networkx(G, pos)"
   ]
  },
  {
   "cell_type": "code",
   "execution_count": null,
   "metadata": {},
   "outputs": [],
   "source": [
    "# Draw the graph adding alpha, removing labels, and softening edge color\n",
    "plt.figure(figsize=(10,7))\n",
    "\n",
    "nx.draw_networkx(G, pos, alpha=0.7, with_labels=False, edge_color='.4')\n",
    "\n",
    "plt.axis('off')\n",
    "plt.tight_layout();"
   ]
  },
  {
   "cell_type": "code",
   "execution_count": null,
   "metadata": {},
   "outputs": [],
   "source": [
    "# Draw graph with varying node color, node size, and edge width\n",
    "plt.figure(figsize=(10,7))\n",
    "\n",
    "node_color = [G.degree(v) for v in G]\n",
    "node_size = [0.0005*nx.get_node_attributes(G, 'population')[v] for v in G]\n",
    "edge_width = [0.0015*G[u][v]['weight'] for u,v in G.edges()]\n",
    "\n",
    "nx.draw_networkx(G, pos, node_size=node_size, \n",
    "                 node_color=node_color, alpha=0.7, with_labels=False, \n",
    "                 width=edge_width, edge_color='.4', cmap=plt.cm.Blues)\n",
    "\n",
    "plt.axis('off')\n",
    "plt.tight_layout();"
   ]
  },
  {
   "cell_type": "code",
   "execution_count": null,
   "metadata": {},
   "outputs": [],
   "source": [
    "# Draw specific edges and add labels to specific nodes\n",
    "plt.figure(figsize=(10,7))\n",
    "\n",
    "node_color = [G.degree(v) for v in G]\n",
    "node_size = [0.0005*nx.get_node_attributes(G, 'population')[v] for v in G]\n",
    "edge_width = [0.0015*G[u][v]['weight'] for u,v in G.edges()]\n",
    "\n",
    "nx.draw_networkx(G, pos, node_size=node_size, \n",
    "                 node_color=node_color, alpha=0.7, with_labels=False, \n",
    "                 width=edge_width, edge_color='.4', cmap=plt.cm.Blues)\n",
    "\n",
    "\n",
    "greater_than_770 = [x for x in G.edges(data=True) if x[2]['weight']>770]\n",
    "nx.draw_networkx_edges(G, pos, edgelist=greater_than_770, edge_color='r', alpha=0.4, width=6)\n",
    "\n",
    "nx.draw_networkx_labels(G, pos, labels={'Los Angeles, CA': 'LA', 'New York, NY': 'NYC'}, font_size=18, font_color='w')\n",
    "\n",
    "plt.axis('off')\n",
    "plt.tight_layout();"
   ]
  },
  {
   "cell_type": "markdown",
   "metadata": {},
   "source": [
    "# Centrality"
   ]
  },
  {
   "cell_type": "markdown",
   "metadata": {},
   "source": [
    "### Degree Centrality"
   ]
  },
  {
   "cell_type": "code",
   "execution_count": null,
   "metadata": {},
   "outputs": [],
   "source": [
    "# number of degrees\n",
    "# undirected: degree\n",
    "# derected: in-degree or out-degree\n",
    "G = nx.karate_club_graph()\n",
    "G = nx.convert_node_labels_to_integers(G, first_label = 1)\n",
    "degCen=nx.degree_centrality(G)\n",
    "degCen[34]\n",
    "# Direct network\n",
    "indegCent = nx.in_degree_centrality(G) # in-degree\n",
    "indegCent['A']\n",
    "outdegCent = nx.out_degree_centrality(G)"
   ]
  },
  {
   "cell_type": "markdown",
   "metadata": {},
   "source": [
    "### Closeness Centrality"
   ]
  },
  {
   "cell_type": "code",
   "execution_count": null,
   "metadata": {},
   "outputs": [],
   "source": [
    "# Assumption: important nodes are close to other nodes\n",
    "# (set of nodes - 1)/the sum of shortest path distance between other nodes and the target node\n",
    "closeCent = nx.closeness_centrality(G)\n",
    "# disconnected nodes: \n",
    "# option 1: only consider the nodes can be reached (only one node connected, the value is 1)\n",
    "# option 2: normalize by the ratio of nodes target can reach R(L)/(N-1)\n",
    "closeCent = nx.closeness_centrality(G, normalized=True) # or False"
   ]
  },
  {
   "cell_type": "markdown",
   "metadata": {},
   "source": [
    "### Betweenness Centrality"
   ]
  },
  {
   "cell_type": "code",
   "execution_count": null,
   "metadata": {},
   "outputs": [],
   "source": [
    "# Assumption: important nodes are connected to other nodes\n",
    "# only consider nodes at least one shortest path\n",
    "btwnCent = nx.betweenness_centrality(G, normalized=True, endpoints=False)\n",
    "btwnCent = nx.betweenness_centrality(G, normalized=True, endpoints=False,k=10)\n",
    "btwnCent_subset = nx.betweenness_centrality_subset(G, [],[],normalized=True)\n",
    "btwnCent_edge = nx.edge_betweenness_centrality(G,normalized=True) # to find important edges instead of nodes\n"
   ]
  },
  {
   "cell_type": "markdown",
   "metadata": {},
   "source": [
    "### HITS Algorithm"
   ]
  },
  {
   "cell_type": "markdown",
   "metadata": {},
   "source": [
    "# Preferential Attachment Model"
   ]
  },
  {
   "cell_type": "code",
   "execution_count": null,
   "metadata": {},
   "outputs": [],
   "source": [
    "# produce a network with small shortest paths and small local clustering coefficient"
   ]
  },
  {
   "cell_type": "code",
   "execution_count": null,
   "metadata": {},
   "outputs": [],
   "source": [
    "G = nx.barabasi_albert_graph()"
   ]
  },
  {
   "cell_type": "markdown",
   "metadata": {},
   "source": [
    "### Small world model"
   ]
  },
  {
   "cell_type": "code",
   "execution_count": null,
   "metadata": {},
   "outputs": [],
   "source": [
    "# real-world netwworks: hige local clustering coefficient and small average shortest paths\n",
    "# small_world model # not power law\n",
    "# starting from n nodes, connect to k nearest neighbor nodes and rewire probability p\n",
    "# hige local clustering coefficient and small average shortest paths\n",
    "# like the real-world networks\n",
    "watts_strogatz_graph(n,k,p)"
   ]
  },
  {
   "cell_type": "markdown",
   "metadata": {},
   "source": [
    "# Link Prediction"
   ]
  },
  {
   "cell_type": "code",
   "execution_count": null,
   "metadata": {},
   "outputs": [],
   "source": [
    "# 1. Common neighbors\n",
    "# comm_neigh(X,Y)=interaction of set of neighbors of node X and set of neighbors of node Y\n",
    "common_neigh = [(e[0],e[1],len(list(nx.common_neighbors(G,e[0],e[1])))) for e in nx.non_edges(G)]"
   ]
  },
  {
   "cell_type": "code",
   "execution_count": null,
   "metadata": {},
   "outputs": [],
   "source": [
    "# 2. Jaccard Coefficient\n",
    "# jacc_coeff(X,Y)=interaction of set of neighbors of node X and set of neighbors of node Y\n",
    "#                 /union of set of neighbors of node X and set of neighbors of node Y\n",
    "L = list(nx.jaccard_coefficient(G))"
   ]
  },
  {
   "cell_type": "code",
   "execution_count": null,
   "metadata": {},
   "outputs": [],
   "source": [
    "# 3. resorce allocation\n",
    "# fraction of resource that a node can send to another through common neighbors\n",
    "L = list(nx.resource_allocation_index(G))\n",
    "L.sort(key=operator.itemgetter(2),reverse=True)"
   ]
  },
  {
   "cell_type": "code",
   "execution_count": null,
   "metadata": {},
   "outputs": [],
   "source": [
    "# 4. Adamic-Adar Index\n",
    "# similar to the equation for the resource allocation index, using log(N(u)) instead of N(u) for denominator"
   ]
  },
  {
   "cell_type": "code",
   "execution_count": null,
   "metadata": {},
   "outputs": [],
   "source": [
    "# 5. preferential attachment\n",
    "# pref_attach(X,Y) = |N(X)N(Y)|\n",
    "L = list(nx.preferential_attachment(G))\n",
    "# 6.community common\n",
    "# common neighbors and bonus(in the same community or not)\n",
    "cn_soundarajan_hopcroft(A,C)\n",
    "L = list(nx.cn_soundarajan_hopcroft(G))"
   ]
  },
  {
   "cell_type": "code",
   "execution_count": null,
   "metadata": {},
   "outputs": [],
   "source": [
    "# 7. community allocation\n",
    "# similar to resource allocation index, but only to consider the nodes in the same community"
   ]
  }
 ],
 "metadata": {
  "kernelspec": {
   "display_name": "mlvenv",
   "language": "python",
   "name": "mlvenv"
  },
  "language_info": {
   "codemirror_mode": {
    "name": "ipython",
    "version": 3
   },
   "file_extension": ".py",
   "mimetype": "text/x-python",
   "name": "python",
   "nbconvert_exporter": "python",
   "pygments_lexer": "ipython3",
   "version": "3.8.2"
  }
 },
 "nbformat": 4,
 "nbformat_minor": 4
}
