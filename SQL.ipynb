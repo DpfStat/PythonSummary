{
 "cells": [
  {
   "cell_type": "code",
   "execution_count": null,
   "metadata": {},
   "outputs": [],
   "source": [
    "DATA_PATH = \"./resource/asnlib/publicdata/\"\n",
    "conn = db.connect ('{}hrc.db'.format(DATA_PATH))\n",
    "df = pd.read_sql_query(query, conn)"
   ]
  },
  {
   "cell_type": "markdown",
   "metadata": {},
   "source": [
    "## the command to choose non-empty cell "
   ]
  },
  {
   "cell_type": "code",
   "execution_count": null,
   "metadata": {},
   "outputs": [],
   "source": [
    "# <> means not equal in sql\n",
    "query = '''\n",
    "    select SenderPersonId as Sender, PersonId as Receiver, count(*) as Frequency\n",
    "    from Emails, EmailReceivers\n",
    "    where Emails.Id = EmailReceivers.EmailId and Sender <> ''\n",
    "    group by\n",
    "    Sender, Receiver\n",
    "    order by Frequency DESC \n",
    "    '''#order by -Frenquency"
   ]
  }
 ],
 "metadata": {
  "kernelspec": {
   "display_name": "mlvenv",
   "language": "python",
   "name": "mlvenv"
  },
  "language_info": {
   "codemirror_mode": {
    "name": "ipython",
    "version": 3
   },
   "file_extension": ".py",
   "mimetype": "text/x-python",
   "name": "python",
   "nbconvert_exporter": "python",
   "pygments_lexer": "ipython3",
   "version": "3.7.6"
  }
 },
 "nbformat": 4,
 "nbformat_minor": 4
}
