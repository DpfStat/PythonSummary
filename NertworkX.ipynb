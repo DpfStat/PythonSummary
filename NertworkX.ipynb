{
 "cells": [
  {
   "cell_type": "code",
   "execution_count": 1,
   "metadata": {},
   "outputs": [],
   "source": [
    "import networkx as nx"
   ]
  },
  {
   "cell_type": "markdown",
   "metadata": {},
   "source": [
    "# Clustering Coefficient"
   ]
  },
  {
   "cell_type": "code",
   "execution_count": null,
   "metadata": {},
   "outputs": [],
   "source": [
    "# local clustering coefficient\n",
    "G = nx.Graph()\n",
    "nx.clustering(G, 'A')"
   ]
  },
  {
   "cell_type": "code",
   "execution_count": null,
   "metadata": {},
   "outputs": [],
   "source": [
    "# Global clustering coefficient\n",
    "# average \n",
    "nx.average_clustering(G)\n",
    "# Transitivity\n",
    "# Transitivity weighs nodes with larger degree higher\n",
    "nx.transitivity(G)"
   ]
  },
  {
   "cell_type": "markdown",
   "metadata": {},
   "source": [
    "# Distance "
   ]
  },
  {
   "cell_type": "code",
   "execution_count": null,
   "metadata": {},
   "outputs": [],
   "source": [
    "## path\n",
    "nx.shortest_path(G,'A','B')\n",
    "\n",
    "# from A to other nodes\n",
    "# Breadth-first search\n",
    "T = nx.bfs_tree(G, 'A')\n",
    "T.edges()\n",
    "# or \n",
    "nx.shortest_path_length(G,'A')\n"
   ]
  },
  {
   "cell_type": "markdown",
   "metadata": {},
   "source": [
    "### Distance measures"
   ]
  },
  {
   "cell_type": "code",
   "execution_count": null,
   "metadata": {},
   "outputs": [],
   "source": [
    "# average \n",
    "nx.average_shortest_path_length(G)\n",
    "# diameter: the maximum distance between any pair of nodes\n",
    "nx.diameter(G)\n",
    "# Eccentricity: the largest distance of node n and other nodes\n",
    "nx.eccentricity(G)\n",
    "## radius: the minimum eccentricity\n",
    "nx.radius(G)\n",
    "###\n",
    "## Periphery: the set of nodes that have eccentricity equals diameter\n",
    "nx.periphery(G)\n",
    "## Center: the set of nodes that have eccentricity equals radius"
   ]
  },
  {
   "cell_type": "markdown",
   "metadata": {},
   "source": [
    "### Examples"
   ]
  },
  {
   "cell_type": "code",
   "execution_count": 10,
   "metadata": {},
   "outputs": [
    {
     "data": {
      "text/plain": [
       "2.408199643493761"
      ]
     },
     "execution_count": 10,
     "metadata": {},
     "output_type": "execute_result"
    }
   ],
   "source": [
    "G = nx.karate_club_graph()\n",
    "G = nx.convert_node_labels_to_integers(G,first_label=1)\n",
    "nx.average_shortest_path_length(G)"
   ]
  },
  {
   "cell_type": "code",
   "execution_count": 11,
   "metadata": {},
   "outputs": [
    {
     "data": {
      "text/plain": [
       "5"
      ]
     },
     "execution_count": 11,
     "metadata": {},
     "output_type": "execute_result"
    }
   ],
   "source": [
    "nx.diameter(G)"
   ]
  },
  {
   "cell_type": "code",
   "execution_count": 12,
   "metadata": {},
   "outputs": [
    {
     "data": {
      "text/plain": [
       "3"
      ]
     },
     "execution_count": 12,
     "metadata": {},
     "output_type": "execute_result"
    }
   ],
   "source": [
    "nx.radius(G)"
   ]
  },
  {
   "cell_type": "code",
   "execution_count": 16,
   "metadata": {},
   "outputs": [
    {
     "data": {
      "text/plain": [
       "{1: 3,\n",
       " 2: 3,\n",
       " 3: 3,\n",
       " 4: 3,\n",
       " 5: 4,\n",
       " 6: 4,\n",
       " 7: 4,\n",
       " 8: 4,\n",
       " 9: 3,\n",
       " 10: 4,\n",
       " 11: 4,\n",
       " 12: 4,\n",
       " 13: 4,\n",
       " 14: 3,\n",
       " 15: 5,\n",
       " 16: 5,\n",
       " 17: 5,\n",
       " 18: 4,\n",
       " 19: 5,\n",
       " 20: 3,\n",
       " 21: 5,\n",
       " 22: 4,\n",
       " 23: 5,\n",
       " 24: 5,\n",
       " 25: 4,\n",
       " 26: 4,\n",
       " 27: 5,\n",
       " 28: 4,\n",
       " 29: 4,\n",
       " 30: 5,\n",
       " 31: 4,\n",
       " 32: 3,\n",
       " 33: 4,\n",
       " 34: 4}"
      ]
     },
     "execution_count": 16,
     "metadata": {},
     "output_type": "execute_result"
    }
   ],
   "source": [
    "nx.eccentricity(G)"
   ]
  },
  {
   "cell_type": "code",
   "execution_count": 13,
   "metadata": {},
   "outputs": [
    {
     "data": {
      "text/plain": [
       "[15, 16, 17, 19, 21, 23, 24, 27, 30]"
      ]
     },
     "execution_count": 13,
     "metadata": {},
     "output_type": "execute_result"
    }
   ],
   "source": [
    "nx.periphery(G)"
   ]
  },
  {
   "cell_type": "code",
   "execution_count": 15,
   "metadata": {},
   "outputs": [
    {
     "data": {
      "text/plain": [
       "[1, 2, 3, 4, 9, 14, 20, 32]"
      ]
     },
     "execution_count": 15,
     "metadata": {},
     "output_type": "execute_result"
    }
   ],
   "source": [
    "nx.center(G)"
   ]
  },
  {
   "cell_type": "markdown",
   "metadata": {},
   "source": [
    "# Connected "
   ]
  },
  {
   "cell_type": "code",
   "execution_count": null,
   "metadata": {},
   "outputs": [],
   "source": [
    "nx.is_connected(G)\n",
    "nx.number_connected_components(G) # show the number of subsets\n",
    "sorted(nx.connected_components(G)) # show the subsets\n",
    "nx.node_connected_component(G,'M') # show the subset with node M"
   ]
  },
  {
   "cell_type": "markdown",
   "metadata": {},
   "source": [
    "### Directed Graph "
   ]
  },
  {
   "cell_type": "code",
   "execution_count": null,
   "metadata": {},
   "outputs": [],
   "source": [
    "# strongly connected: u to v and v to u both have a direct path\n",
    "nx.is_strongly_connected(G)\n",
    "# weakly connected: replace all the direct path with undirect path to producr a undirect connected graph\n",
    "nx.is_weakly_connected(G)\n",
    "\n",
    "sorted(nx.strongly_connected_components(G))\n",
    "sorted(nx.weakly_connected_components(G))"
   ]
  },
  {
   "cell_type": "markdown",
   "metadata": {},
   "source": [
    "# Robustness"
   ]
  },
  {
   "cell_type": "markdown",
   "metadata": {},
   "source": [
    "### subsets"
   ]
  },
  {
   "cell_type": "code",
   "execution_count": null,
   "metadata": {},
   "outputs": [],
   "source": [
    "# nodes\n",
    "# the smallest number of nodes to remove to disconnect\n",
    "nx.node_connectivity(G_un) # g_un: undirect graph\n",
    "# which node to cut\n",
    "nx.minimum_node_cut(G_un)"
   ]
  },
  {
   "cell_type": "code",
   "execution_count": null,
   "metadata": {},
   "outputs": [],
   "source": [
    "# edges\n",
    "# the smallest number of edges to remove to disconnect\n",
    "nx.edge_connectivity(G_un)\n",
    "# the edges to remove\n",
    "nx.minimun_edge_cut(G_un)"
   ]
  },
  {
   "cell_type": "markdown",
   "metadata": {},
   "source": [
    "### simple path"
   ]
  },
  {
   "cell_type": "code",
   "execution_count": null,
   "metadata": {},
   "outputs": [],
   "source": [
    "# show all the pathes between two nodes\n",
    "sorted(nx.all_simple_paths(G,'G','L'))\n",
    "# remove nodes to block the connection between two nodes\n",
    "nx.node_connectivity(G,'G','L')\n",
    "nx.minimum_node_cut(G,'G','L')\n",
    "# edges\n",
    "nx.edge_connectivity(G,'G','L')\n",
    "nx.minimum_edge_cut(G,'G','L')"
   ]
  }
 ],
 "metadata": {
  "kernelspec": {
   "display_name": "mlvenv",
   "language": "python",
   "name": "mlvenv"
  },
  "language_info": {
   "codemirror_mode": {
    "name": "ipython",
    "version": 3
   },
   "file_extension": ".py",
   "mimetype": "text/x-python",
   "name": "python",
   "nbconvert_exporter": "python",
   "pygments_lexer": "ipython3",
   "version": "3.7.6"
  }
 },
 "nbformat": 4,
 "nbformat_minor": 4
}
